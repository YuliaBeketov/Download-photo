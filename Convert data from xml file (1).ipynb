{
 "cells": [
  {
   "cell_type": "code",
   "execution_count": 37,
   "id": "8d120036",
   "metadata": {},
   "outputs": [
    {
     "name": "stdout",
     "output_type": "stream",
     "text": [
      "     name     xmin     ymin     xmax     ymax\n",
      "0       0  1599.57  2002.22  1661.77  2044.59\n",
      "1       0  1543.68  2018.90  1604.30  2059.24\n",
      "2       0  1438.43  2013.04  1506.04  2064.88\n",
      "3       0  1449.02  2059.92  1519.56  2096.20\n",
      "4       0  1497.70  2012.36  1547.28  2062.85\n",
      "...   ...      ...      ...      ...      ...\n",
      "1322    0   644.81  3464.67   693.49  3508.49\n",
      "1323    0   663.47  3438.98   732.44  3479.55\n",
      "1324    0   690.41  3386.51   734.76  3451.42\n",
      "1325    0  1482.82  1128.29  1539.16  1179.37\n",
      "1326    0  1494.65  1098.62  1568.46  1132.80\n",
      "\n",
      "[1327 rows x 5 columns]\n"
     ]
    }
   ],
   "source": [
    "import pandas as pd\n",
    "from bs4 import BeautifulSoup\n",
    "import numpy as np\n",
    "import matplotlib.pyplot as plt\n",
    "\n",
    "## To parse data:\n",
    "def parse_xml(xml_file):\n",
    "    with open(xml_file, 'r') as f:\n",
    "        xml_data = f.read()\n",
    "\n",
    "    soup = BeautifulSoup(xml_data, 'xml')\n",
    "    return soup\n",
    "\n",
    "## To extract data for the each value:\n",
    "def extract_data(parsed_xml):\n",
    "    data = []\n",
    "    objects = parsed_xml.find_all('object')\n",
    "    for obj in objects:\n",
    "        name = obj.find('name').text\n",
    "        xmin = float(obj.find('xmin').text)\n",
    "        ymin = float(obj.find('ymin').text)\n",
    "        xmax = float(obj.find('xmax').text)\n",
    "        ymax = float(obj.find('ymax').text)\n",
    "        data.append({'name': name, 'xmin': xmin, 'ymin': ymin, 'xmax': xmax, 'ymax': ymax})\n",
    "    return data\n",
    "\n",
    "## Path of the input file xml:\n",
    "xml_file_path = 'C:/Users/julia/OneDrive/Desktop/PXL_20230503_224327025.xml'\n",
    "\n",
    "parsed_xml = parse_xml(xml_file_path)\n",
    "data = extract_data(parsed_xml)\n",
    "\n",
    "## To form data base:\n",
    "df = pd.DataFrame(data)\n",
    "print(df)"
   ]
  },
  {
   "cell_type": "code",
   "execution_count": 38,
   "id": "e9ad5e44",
   "metadata": {},
   "outputs": [
    {
     "name": "stdout",
     "output_type": "stream",
     "text": [
      "     name     xmin     ymin     xmax     ymax  center_x  center_y  width  \\\n",
      "0       0  1599.57  2002.22  1661.77  2044.59  1630.670  2023.405  62.20   \n",
      "1       0  1543.68  2018.90  1604.30  2059.24  1573.990  2039.070  60.62   \n",
      "2       0  1438.43  2013.04  1506.04  2064.88  1472.235  2038.960  67.61   \n",
      "3       0  1449.02  2059.92  1519.56  2096.20  1484.290  2078.060  70.54   \n",
      "4       0  1497.70  2012.36  1547.28  2062.85  1522.490  2037.605  49.58   \n",
      "...   ...      ...      ...      ...      ...       ...       ...    ...   \n",
      "1322    0   644.81  3464.67   693.49  3508.49   669.150  3486.580  48.68   \n",
      "1323    0   663.47  3438.98   732.44  3479.55   697.955  3459.265  68.97   \n",
      "1324    0   690.41  3386.51   734.76  3451.42   712.585  3418.965  44.35   \n",
      "1325    0  1482.82  1128.29  1539.16  1179.37  1510.990  1153.830  56.34   \n",
      "1326    0  1494.65  1098.62  1568.46  1132.80  1531.555  1115.710  73.81   \n",
      "\n",
      "      height  \n",
      "0      42.37  \n",
      "1      40.34  \n",
      "2      51.84  \n",
      "3      36.28  \n",
      "4      50.49  \n",
      "...      ...  \n",
      "1322   43.82  \n",
      "1323   40.57  \n",
      "1324   64.91  \n",
      "1325   51.08  \n",
      "1326   34.18  \n",
      "\n",
      "[1327 rows x 9 columns]\n"
     ]
    }
   ],
   "source": [
    "## To add specific new columns: coordinates for the center, width and length:\n",
    "df['center_x'] = (df['xmin'] + df['xmax']) / 2\n",
    "df['center_y'] = (df['ymin'] + df['ymax']) / 2\n",
    "df['width'] = df['xmax'] - df['xmin']\n",
    "df['height'] = df['ymax'] - df['ymin']\n",
    "\n",
    "print(df)"
   ]
  },
  {
   "cell_type": "code",
   "execution_count": 34,
   "id": "242f4a72",
   "metadata": {},
   "outputs": [
    {
     "name": "stdout",
     "output_type": "stream",
     "text": [
      "             width       height\n",
      "count  1327.000000  1327.000000\n",
      "mean     51.745268    52.519186\n",
      "std      13.099167    13.186763\n",
      "min      19.720000    18.930000\n",
      "25%      39.665000    40.580000\n",
      "50%      51.610000    53.520000\n",
      "75%      63.555000    64.180000\n",
      "max      77.890000    83.080000\n"
     ]
    }
   ],
   "source": [
    "statistics = df[['width', 'height']].describe()\n",
    "print(statistics)"
   ]
  },
  {
   "cell_type": "code",
   "execution_count": 39,
   "id": "f56854ac",
   "metadata": {},
   "outputs": [
    {
     "data": {
      "image/png": "[encoded data removed]",
      "text/plain": [
       "<Figure size 800x600 with 1 Axes>"
      ]
     },
     "metadata": {},
     "output_type": "display_data"
    }
   ],
   "source": [
    "## To create box plots\n",
    "plt.figure(figsize = (8, 6))\n",
    "df[['width', 'height']].boxplot()\n",
    "plt.title('Width and Height, inches')\n",
    "plt.ylabel('Value, inches')\n",
    "plt.show()"
   ]
  },
  {
   "cell_type": "code",
   "execution_count": null,
   "id": "0791bb7e",
   "metadata": {},
   "outputs": [],
   "source": []
  }
 ],
 "metadata": {
  "kernelspec": {
   "display_name": "Python 3 (ipykernel)",
   "language": "python",
   "name": "python3"
  },
  "language_info": {
   "codemirror_mode": {
    "name": "ipython",
    "version": 3
   },
   "file_extension": ".py",
   "mimetype": "text/x-python",
   "name": "python",
   "nbconvert_exporter": "python",
   "pygments_lexer": "ipython3",
   "version": "3.10.9"
  }
 },
 "nbformat": 4,
 "nbformat_minor": 5
}
